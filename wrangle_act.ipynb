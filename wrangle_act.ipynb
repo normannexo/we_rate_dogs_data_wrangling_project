{
 "cells": [
  {
   "cell_type": "markdown",
   "metadata": {},
   "source": [
    "## Project Data Wrangling - We rate dogs\n",
    "\n",
    "This project will assure you have mastered the subjects covered in the statistics lessons.  The hope is to have this project be as comprehensive of these topics as possible.  Good luck!\n",
    "\n",
    "## Table of Contents\n",
    "- [Gathering Data](#gather)\n",
    "- [Assessing Data](#assess)\n",
    "- [Cleaning Data](#clean)\n",
    "- [Analyzing Data](#analyze)\n",
    "\n",
    "\n"
   ]
  },
  {
   "cell_type": "code",
   "execution_count": 61,
   "metadata": {},
   "outputs": [
    {
     "name": "stdout",
     "output_type": "stream",
     "text": [
      "The dotenv extension is already loaded. To reload it, use:\n",
      "  %reload_ext dotenv\n"
     ]
    }
   ],
   "source": [
    "import tweepy\n",
    "import pandas as pd\n",
    "import numpy as np\n",
    "import requests\n",
    "import os\n",
    "import re\n",
    "# use module dotenv to manage API keys and secrets\n",
    "%load_ext dotenv\n",
    "%dotenv\n",
    "\n",
    "consumer_key = os.environ.get('CONSUMER_KEY')\n",
    "consumer_secret = os.environ.get('CONSUMER_SECRET')\n",
    "access_token = os.environ.get('ACCESS_TOKEN')\n",
    "access_secret = os.environ.get('ACCESS_SECRET')\n",
    "tsv_url = \"https://d17h27t6h515a5.cloudfront.net/topher/2017/August/599fd2ad_image-predictions/image-predictions.tsv\"\n",
    "\n",
    "\n",
    "auth = tweepy.OAuthHandler(consumer_key, consumer_secret)\n",
    "auth.set_access_token(access_token, access_secret)\n",
    "\n",
    "api = tweepy.API(auth)\n"
   ]
  },
  {
   "cell_type": "markdown",
   "metadata": {},
   "source": [
    "<a id='gather'></a>\n",
    "### Gathering Data\n",
    "We gather data from 3 several sources:\n",
    "1. enhanced Twitter archive: a csv file 'twitter-archive-enhanced.csv' (data stored in `df_tweets_raw`)\n",
    "2. Additional Data via the Twitter API\n",
    "3. Image Predictions File\n",
    "\n",
    "Let's start with getting the data from twitter archive file and take a look at a few records:"
   ]
  },
  {
   "cell_type": "code",
   "execution_count": 5,
   "metadata": {},
   "outputs": [
    {
     "data": {
      "text/html": [
       "<div>\n",
       "<style scoped>\n",
       "    .dataframe tbody tr th:only-of-type {\n",
       "        vertical-align: middle;\n",
       "    }\n",
       "\n",
       "    .dataframe tbody tr th {\n",
       "        vertical-align: top;\n",
       "    }\n",
       "\n",
       "    .dataframe thead th {\n",
       "        text-align: right;\n",
       "    }\n",
       "</style>\n",
       "<table border=\"1\" class=\"dataframe\">\n",
       "  <thead>\n",
       "    <tr style=\"text-align: right;\">\n",
       "      <th></th>\n",
       "      <th>tweet_id</th>\n",
       "      <th>in_reply_to_status_id</th>\n",
       "      <th>in_reply_to_user_id</th>\n",
       "      <th>timestamp</th>\n",
       "      <th>source</th>\n",
       "      <th>text</th>\n",
       "      <th>retweeted_status_id</th>\n",
       "      <th>retweeted_status_user_id</th>\n",
       "      <th>retweeted_status_timestamp</th>\n",
       "      <th>expanded_urls</th>\n",
       "      <th>rating_numerator</th>\n",
       "      <th>rating_denominator</th>\n",
       "      <th>name</th>\n",
       "      <th>doggo</th>\n",
       "      <th>floofer</th>\n",
       "      <th>pupper</th>\n",
       "      <th>puppo</th>\n",
       "    </tr>\n",
       "  </thead>\n",
       "  <tbody>\n",
       "    <tr>\n",
       "      <td>739</td>\n",
       "      <td>780601303617732608</td>\n",
       "      <td>NaN</td>\n",
       "      <td>NaN</td>\n",
       "      <td>2016-09-27 02:53:48 +0000</td>\n",
       "      <td>&lt;a href=\"http://twitter.com/download/iphone\" r...</td>\n",
       "      <td>Meet Hercules. He can have whatever he wants f...</td>\n",
       "      <td>NaN</td>\n",
       "      <td>NaN</td>\n",
       "      <td>NaN</td>\n",
       "      <td>https://twitter.com/dog_rates/status/780601303...</td>\n",
       "      <td>12</td>\n",
       "      <td>10</td>\n",
       "      <td>Hercules</td>\n",
       "      <td>None</td>\n",
       "      <td>None</td>\n",
       "      <td>None</td>\n",
       "      <td>None</td>\n",
       "    </tr>\n",
       "    <tr>\n",
       "      <td>2056</td>\n",
       "      <td>671357843010908160</td>\n",
       "      <td>NaN</td>\n",
       "      <td>NaN</td>\n",
       "      <td>2015-11-30 15:59:17 +0000</td>\n",
       "      <td>&lt;a href=\"http://twitter.com/download/iphone\" r...</td>\n",
       "      <td>Tfw she says hello from the other side. 9/10 h...</td>\n",
       "      <td>NaN</td>\n",
       "      <td>NaN</td>\n",
       "      <td>NaN</td>\n",
       "      <td>https://twitter.com/dog_rates/status/671357843...</td>\n",
       "      <td>9</td>\n",
       "      <td>10</td>\n",
       "      <td>None</td>\n",
       "      <td>None</td>\n",
       "      <td>None</td>\n",
       "      <td>None</td>\n",
       "      <td>None</td>\n",
       "    </tr>\n",
       "    <tr>\n",
       "      <td>2271</td>\n",
       "      <td>667495797102141441</td>\n",
       "      <td>NaN</td>\n",
       "      <td>NaN</td>\n",
       "      <td>2015-11-20 00:12:54 +0000</td>\n",
       "      <td>&lt;a href=\"http://twitter.com\" rel=\"nofollow\"&gt;Tw...</td>\n",
       "      <td>This is Philippe from Soviet Russia. Commandin...</td>\n",
       "      <td>NaN</td>\n",
       "      <td>NaN</td>\n",
       "      <td>NaN</td>\n",
       "      <td>https://twitter.com/dog_rates/status/667495797...</td>\n",
       "      <td>9</td>\n",
       "      <td>10</td>\n",
       "      <td>Philippe</td>\n",
       "      <td>None</td>\n",
       "      <td>None</td>\n",
       "      <td>None</td>\n",
       "      <td>None</td>\n",
       "    </tr>\n",
       "  </tbody>\n",
       "</table>\n",
       "</div>"
      ],
      "text/plain": [
       "                tweet_id  in_reply_to_status_id  in_reply_to_user_id  \\\n",
       "739   780601303617732608                    NaN                  NaN   \n",
       "2056  671357843010908160                    NaN                  NaN   \n",
       "2271  667495797102141441                    NaN                  NaN   \n",
       "\n",
       "                      timestamp  \\\n",
       "739   2016-09-27 02:53:48 +0000   \n",
       "2056  2015-11-30 15:59:17 +0000   \n",
       "2271  2015-11-20 00:12:54 +0000   \n",
       "\n",
       "                                                 source  \\\n",
       "739   <a href=\"http://twitter.com/download/iphone\" r...   \n",
       "2056  <a href=\"http://twitter.com/download/iphone\" r...   \n",
       "2271  <a href=\"http://twitter.com\" rel=\"nofollow\">Tw...   \n",
       "\n",
       "                                                   text  retweeted_status_id  \\\n",
       "739   Meet Hercules. He can have whatever he wants f...                  NaN   \n",
       "2056  Tfw she says hello from the other side. 9/10 h...                  NaN   \n",
       "2271  This is Philippe from Soviet Russia. Commandin...                  NaN   \n",
       "\n",
       "      retweeted_status_user_id retweeted_status_timestamp  \\\n",
       "739                        NaN                        NaN   \n",
       "2056                       NaN                        NaN   \n",
       "2271                       NaN                        NaN   \n",
       "\n",
       "                                          expanded_urls  rating_numerator  \\\n",
       "739   https://twitter.com/dog_rates/status/780601303...                12   \n",
       "2056  https://twitter.com/dog_rates/status/671357843...                 9   \n",
       "2271  https://twitter.com/dog_rates/status/667495797...                 9   \n",
       "\n",
       "      rating_denominator      name doggo floofer pupper puppo  \n",
       "739                   10  Hercules  None    None   None  None  \n",
       "2056                  10      None  None    None   None  None  \n",
       "2271                  10  Philippe  None    None   None  None  "
      ]
     },
     "execution_count": 5,
     "metadata": {},
     "output_type": "execute_result"
    }
   ],
   "source": [
    "df_tweets_raw = pd.read_csv('twitter-archive-enhanced.csv')\n",
    "df_tweets_raw.sample(3)"
   ]
  },
  {
   "cell_type": "markdown",
   "metadata": {},
   "source": [
    "<a id='assess'></a>\n",
    "## Assessing Data\n",
    "\n",
    "### 1.) Advanced Twitter Archive\n",
    "**Quality:**  \n",
    "- `name` column: some entries seem to be regular words rather than names (visually explored)\n",
    "- `rating_denominator` column: several entries are <> 10, indicating invalid rating values (visually explored)\n"
   ]
  },
  {
   "cell_type": "code",
   "execution_count": 6,
   "metadata": {},
   "outputs": [
    {
     "data": {
      "text/plain": [
       "tweet_id                      0.000000\n",
       "in_reply_to_status_id         0.966893\n",
       "in_reply_to_user_id           0.966893\n",
       "timestamp                     0.000000\n",
       "source                        0.000000\n",
       "text                          0.000000\n",
       "retweeted_status_id           0.923175\n",
       "retweeted_status_user_id      0.923175\n",
       "retweeted_status_timestamp    0.923175\n",
       "expanded_urls                 0.025042\n",
       "rating_numerator              0.000000\n",
       "rating_denominator            0.000000\n",
       "name                          0.000000\n",
       "doggo                         0.000000\n",
       "floofer                       0.000000\n",
       "pupper                        0.000000\n",
       "puppo                         0.000000\n",
       "dtype: float64"
      ]
     },
     "execution_count": 6,
     "metadata": {},
     "output_type": "execute_result"
    }
   ],
   "source": [
    "df_tweets_raw.isnull().sum() / df_tweets_raw.shape[0]"
   ]
  },
  {
   "cell_type": "code",
   "execution_count": 15,
   "metadata": {},
   "outputs": [
    {
     "data": {
      "text/plain": [
       "0       False\n",
       "1       False\n",
       "2       False\n",
       "3       False\n",
       "4       False\n",
       "        ...  \n",
       "2351    False\n",
       "2352    False\n",
       "2353    False\n",
       "2354    False\n",
       "2355    False\n",
       "Name: doggo, Length: 2356, dtype: bool"
      ]
     },
     "execution_count": 15,
     "metadata": {},
     "output_type": "execute_result"
    }
   ],
   "source": [
    "df_tweets_raw['doggo'].isnull()"
   ]
  },
  {
   "cell_type": "code",
   "execution_count": 18,
   "metadata": {},
   "outputs": [],
   "source": [
    "df_tweets_raw['doggo'].replace('None', np.nan, inplace=True)"
   ]
  },
  {
   "cell_type": "code",
   "execution_count": 27,
   "metadata": {},
   "outputs": [
    {
     "data": {
      "text/plain": [
       "array(['doggo'], dtype=object)"
      ]
     },
     "execution_count": 27,
     "metadata": {},
     "output_type": "execute_result"
    }
   ],
   "source": [
    "df_tweets_raw[df_tweets_raw.doggo.notna()].doggo"
   ]
  },
  {
   "cell_type": "markdown",
   "metadata": {},
   "source": [
    "<a id=\"clean\"></a>\n",
    "## Cleaning Data\n",
    "\n"
   ]
  },
  {
   "cell_type": "code",
   "execution_count": 80,
   "metadata": {},
   "outputs": [],
   "source": [
    "#make copy to work with while cleaning the data\n",
    "df_tweets_clean = df_tweets_raw.copy()"
   ]
  },
  {
   "cell_type": "markdown",
   "metadata": {},
   "source": [
    "### Tidiness\n",
    "#### Validity\n",
    "##### Issue: Some names in the name column aren't actually names but regular words. \n",
    "##### Define\n",
    "Issue is probably due to a naive assumptions in parsing process of the tweet's text (\"This is *dogname*\"). So, my solution is to create\n",
    "a new name column and extract only valid names from the name column. That is, only names with more than one letter starting with upper case.\n",
    "##### Code"
   ]
  },
  {
   "cell_type": "code",
   "execution_count": 72,
   "metadata": {},
   "outputs": [],
   "source": [
    "df_tweets_clean['name_extract']=''\n",
    "df_tweets_clean['name_extract']= df_tweets_clean.name.str.extract(r\"^([A-Z]\\w+)\")"
   ]
  },
  {
   "cell_type": "markdown",
   "metadata": {},
   "source": [
    "##### Test"
   ]
  },
  {
   "cell_type": "code",
   "execution_count": 89,
   "metadata": {},
   "outputs": [
    {
     "data": {
      "text/plain": [
       "a               55\n",
       "the              8\n",
       "an               7\n",
       "very             5\n",
       "quite            4\n",
       "one              4\n",
       "just             4\n",
       "not              2\n",
       "mad              2\n",
       "getting          2\n",
       "actually         2\n",
       "O                1\n",
       "his              1\n",
       "incredibly       1\n",
       "this             1\n",
       "by               1\n",
       "all              1\n",
       "light            1\n",
       "old              1\n",
       "life             1\n",
       "space            1\n",
       "infuriating      1\n",
       "such             1\n",
       "my               1\n",
       "unacceptable     1\n",
       "officially       1\n",
       "Name: name, dtype: int64"
      ]
     },
     "execution_count": 89,
     "metadata": {},
     "output_type": "execute_result"
    }
   ],
   "source": [
    "# check to see if only regluar words are left in the original name column\n",
    "df_tweets_clean[df_tweets_clean.name_extract != df_tweets_clean.name]['name'].value_counts()"
   ]
  },
  {
   "cell_type": "code",
   "execution_count": 77,
   "metadata": {},
   "outputs": [],
   "source": []
  },
  {
   "cell_type": "code",
   "execution_count": 78,
   "metadata": {},
   "outputs": [
    {
     "data": {
      "text/html": [
       "<div>\n",
       "<style scoped>\n",
       "    .dataframe tbody tr th:only-of-type {\n",
       "        vertical-align: middle;\n",
       "    }\n",
       "\n",
       "    .dataframe tbody tr th {\n",
       "        vertical-align: top;\n",
       "    }\n",
       "\n",
       "    .dataframe thead th {\n",
       "        text-align: right;\n",
       "    }\n",
       "</style>\n",
       "<table border=\"1\" class=\"dataframe\">\n",
       "  <thead>\n",
       "    <tr style=\"text-align: right;\">\n",
       "      <th></th>\n",
       "      <th>name_extract</th>\n",
       "      <th>name</th>\n",
       "      <th>text</th>\n",
       "    </tr>\n",
       "  </thead>\n",
       "  <tbody>\n",
       "    <tr>\n",
       "      <td>22</td>\n",
       "      <td>NaN</td>\n",
       "      <td>such</td>\n",
       "      <td>I've yet to rate a Venezuelan Hover Wiener. Th...</td>\n",
       "    </tr>\n",
       "    <tr>\n",
       "      <td>56</td>\n",
       "      <td>NaN</td>\n",
       "      <td>a</td>\n",
       "      <td>Here is a pupper approaching maximum borkdrive...</td>\n",
       "    </tr>\n",
       "    <tr>\n",
       "      <td>118</td>\n",
       "      <td>NaN</td>\n",
       "      <td>quite</td>\n",
       "      <td>RT @dog_rates: We only rate dogs. This is quit...</td>\n",
       "    </tr>\n",
       "    <tr>\n",
       "      <td>169</td>\n",
       "      <td>NaN</td>\n",
       "      <td>quite</td>\n",
       "      <td>We only rate dogs. This is quite clearly a smo...</td>\n",
       "    </tr>\n",
       "    <tr>\n",
       "      <td>193</td>\n",
       "      <td>NaN</td>\n",
       "      <td>quite</td>\n",
       "      <td>Guys, we only rate dogs. This is quite clearly...</td>\n",
       "    </tr>\n",
       "    <tr>\n",
       "      <td>...</td>\n",
       "      <td>...</td>\n",
       "      <td>...</td>\n",
       "      <td>...</td>\n",
       "    </tr>\n",
       "    <tr>\n",
       "      <td>2349</td>\n",
       "      <td>NaN</td>\n",
       "      <td>an</td>\n",
       "      <td>This is an odd dog. Hard on the outside but lo...</td>\n",
       "    </tr>\n",
       "    <tr>\n",
       "      <td>2350</td>\n",
       "      <td>NaN</td>\n",
       "      <td>a</td>\n",
       "      <td>This is a truly beautiful English Wilson Staff...</td>\n",
       "    </tr>\n",
       "    <tr>\n",
       "      <td>2352</td>\n",
       "      <td>NaN</td>\n",
       "      <td>a</td>\n",
       "      <td>This is a purebred Piers Morgan. Loves to Netf...</td>\n",
       "    </tr>\n",
       "    <tr>\n",
       "      <td>2353</td>\n",
       "      <td>NaN</td>\n",
       "      <td>a</td>\n",
       "      <td>Here is a very happy pup. Big fan of well-main...</td>\n",
       "    </tr>\n",
       "    <tr>\n",
       "      <td>2354</td>\n",
       "      <td>NaN</td>\n",
       "      <td>a</td>\n",
       "      <td>This is a western brown Mitsubishi terrier. Up...</td>\n",
       "    </tr>\n",
       "  </tbody>\n",
       "</table>\n",
       "<p>110 rows × 3 columns</p>\n",
       "</div>"
      ],
      "text/plain": [
       "     name_extract   name                                               text\n",
       "22            NaN   such  I've yet to rate a Venezuelan Hover Wiener. Th...\n",
       "56            NaN      a  Here is a pupper approaching maximum borkdrive...\n",
       "118           NaN  quite  RT @dog_rates: We only rate dogs. This is quit...\n",
       "169           NaN  quite  We only rate dogs. This is quite clearly a smo...\n",
       "193           NaN  quite  Guys, we only rate dogs. This is quite clearly...\n",
       "...           ...    ...                                                ...\n",
       "2349          NaN     an  This is an odd dog. Hard on the outside but lo...\n",
       "2350          NaN      a  This is a truly beautiful English Wilson Staff...\n",
       "2352          NaN      a  This is a purebred Piers Morgan. Loves to Netf...\n",
       "2353          NaN      a  Here is a very happy pup. Big fan of well-main...\n",
       "2354          NaN      a  This is a western brown Mitsubishi terrier. Up...\n",
       "\n",
       "[110 rows x 3 columns]"
      ]
     },
     "execution_count": 78,
     "metadata": {},
     "output_type": "execute_result"
    }
   ],
   "source": []
  },
  {
   "cell_type": "code",
   "execution_count": null,
   "metadata": {},
   "outputs": [],
   "source": []
  }
 ],
 "metadata": {
  "kernelspec": {
   "display_name": "Python 3",
   "language": "python",
   "name": "python3"
  },
  "language_info": {
   "codemirror_mode": {
    "name": "ipython",
    "version": 3
   },
   "file_extension": ".py",
   "mimetype": "text/x-python",
   "name": "python",
   "nbconvert_exporter": "python",
   "pygments_lexer": "ipython3",
   "version": "3.7.4"
  }
 },
 "nbformat": 4,
 "nbformat_minor": 4
}
